{
 "cells": [
  {
   "cell_type": "code",
   "execution_count": 175,
   "metadata": {},
   "outputs": [
    {
     "data": {
      "text/html": [
       "<div>\n",
       "<style scoped>\n",
       "    .dataframe tbody tr th:only-of-type {\n",
       "        vertical-align: middle;\n",
       "    }\n",
       "\n",
       "    .dataframe tbody tr th {\n",
       "        vertical-align: top;\n",
       "    }\n",
       "\n",
       "    .dataframe thead th {\n",
       "        text-align: right;\n",
       "    }\n",
       "</style>\n",
       "<table border=\"1\" class=\"dataframe\">\n",
       "  <thead>\n",
       "    <tr style=\"text-align: right;\">\n",
       "      <th></th>\n",
       "      <th>Percentage</th>\n",
       "      <th>Total Marks of the Paper</th>\n",
       "      <th>Paper Difficulty Physics</th>\n",
       "      <th>Paper Diffficulty Chemistry</th>\n",
       "      <th>Paper Difficulty Maths</th>\n",
       "      <th>Rank</th>\n",
       "    </tr>\n",
       "  </thead>\n",
       "  <tbody>\n",
       "    <tr>\n",
       "      <th>0</th>\n",
       "      <td>76.11</td>\n",
       "      <td>408</td>\n",
       "      <td>2.725</td>\n",
       "      <td>2.99</td>\n",
       "      <td>3.125</td>\n",
       "      <td>200</td>\n",
       "    </tr>\n",
       "    <tr>\n",
       "      <th>1</th>\n",
       "      <td>76.11</td>\n",
       "      <td>408</td>\n",
       "      <td>2.725</td>\n",
       "      <td>2.99</td>\n",
       "      <td>3.125</td>\n",
       "      <td>201</td>\n",
       "    </tr>\n",
       "    <tr>\n",
       "      <th>2</th>\n",
       "      <td>75.87</td>\n",
       "      <td>408</td>\n",
       "      <td>2.725</td>\n",
       "      <td>2.99</td>\n",
       "      <td>3.125</td>\n",
       "      <td>202</td>\n",
       "    </tr>\n",
       "    <tr>\n",
       "      <th>3</th>\n",
       "      <td>75.87</td>\n",
       "      <td>408</td>\n",
       "      <td>2.725</td>\n",
       "      <td>2.99</td>\n",
       "      <td>3.125</td>\n",
       "      <td>203</td>\n",
       "    </tr>\n",
       "    <tr>\n",
       "      <th>4</th>\n",
       "      <td>75.87</td>\n",
       "      <td>408</td>\n",
       "      <td>2.725</td>\n",
       "      <td>2.99</td>\n",
       "      <td>3.125</td>\n",
       "      <td>204</td>\n",
       "    </tr>\n",
       "  </tbody>\n",
       "</table>\n",
       "</div>"
      ],
      "text/plain": [
       "   Percentage  Total Marks of the Paper  Paper Difficulty Physics  \\\n",
       "0       76.11                       408                     2.725   \n",
       "1       76.11                       408                     2.725   \n",
       "2       75.87                       408                     2.725   \n",
       "3       75.87                       408                     2.725   \n",
       "4       75.87                       408                     2.725   \n",
       "\n",
       "   Paper Diffficulty Chemistry  Paper Difficulty Maths  Rank  \n",
       "0                         2.99                   3.125   200  \n",
       "1                         2.99                   3.125   201  \n",
       "2                         2.99                   3.125   202  \n",
       "3                         2.99                   3.125   203  \n",
       "4                         2.99                   3.125   204  "
      ]
     },
     "execution_count": 175,
     "metadata": {},
     "output_type": "execute_result"
    }
   ],
   "source": [
    "import pandas as pd\n",
    "df=pd.read_excel('FinalJeeRank.xlsx')\n",
    "#s=pd.read_excel('RankData2.xlsx')\n",
    "df1=df[1:]\n",
    "df.head()"
   ]
  },
  {
   "cell_type": "code",
   "execution_count": 176,
   "metadata": {},
   "outputs": [
    {
     "data": {
      "text/html": [
       "<div>\n",
       "<style scoped>\n",
       "    .dataframe tbody tr th:only-of-type {\n",
       "        vertical-align: middle;\n",
       "    }\n",
       "\n",
       "    .dataframe tbody tr th {\n",
       "        vertical-align: top;\n",
       "    }\n",
       "\n",
       "    .dataframe thead th {\n",
       "        text-align: right;\n",
       "    }\n",
       "</style>\n",
       "<table border=\"1\" class=\"dataframe\">\n",
       "  <thead>\n",
       "    <tr style=\"text-align: right;\">\n",
       "      <th></th>\n",
       "      <th>Percentage</th>\n",
       "      <th>Total Marks of the Paper</th>\n",
       "      <th>Paper Difficulty Physics</th>\n",
       "      <th>Paper Diffficulty Chemistry</th>\n",
       "      <th>Paper Difficulty Maths</th>\n",
       "      <th>Rank</th>\n",
       "    </tr>\n",
       "  </thead>\n",
       "  <tbody>\n",
       "    <tr>\n",
       "      <th>1</th>\n",
       "      <td>76.11</td>\n",
       "      <td>408</td>\n",
       "      <td>2.725</td>\n",
       "      <td>2.99</td>\n",
       "      <td>3.125</td>\n",
       "      <td>201</td>\n",
       "    </tr>\n",
       "    <tr>\n",
       "      <th>2</th>\n",
       "      <td>75.87</td>\n",
       "      <td>408</td>\n",
       "      <td>2.725</td>\n",
       "      <td>2.99</td>\n",
       "      <td>3.125</td>\n",
       "      <td>202</td>\n",
       "    </tr>\n",
       "    <tr>\n",
       "      <th>3</th>\n",
       "      <td>75.87</td>\n",
       "      <td>408</td>\n",
       "      <td>2.725</td>\n",
       "      <td>2.99</td>\n",
       "      <td>3.125</td>\n",
       "      <td>203</td>\n",
       "    </tr>\n",
       "    <tr>\n",
       "      <th>4</th>\n",
       "      <td>75.87</td>\n",
       "      <td>408</td>\n",
       "      <td>2.725</td>\n",
       "      <td>2.99</td>\n",
       "      <td>3.125</td>\n",
       "      <td>204</td>\n",
       "    </tr>\n",
       "    <tr>\n",
       "      <th>5</th>\n",
       "      <td>75.87</td>\n",
       "      <td>408</td>\n",
       "      <td>2.725</td>\n",
       "      <td>2.99</td>\n",
       "      <td>3.125</td>\n",
       "      <td>205</td>\n",
       "    </tr>\n",
       "  </tbody>\n",
       "</table>\n",
       "</div>"
      ],
      "text/plain": [
       "   Percentage  Total Marks of the Paper  Paper Difficulty Physics  \\\n",
       "1       76.11                       408                     2.725   \n",
       "2       75.87                       408                     2.725   \n",
       "3       75.87                       408                     2.725   \n",
       "4       75.87                       408                     2.725   \n",
       "5       75.87                       408                     2.725   \n",
       "\n",
       "   Paper Diffficulty Chemistry  Paper Difficulty Maths  Rank  \n",
       "1                         2.99                   3.125   201  \n",
       "2                         2.99                   3.125   202  \n",
       "3                         2.99                   3.125   203  \n",
       "4                         2.99                   3.125   204  \n",
       "5                         2.99                   3.125   205  "
      ]
     },
     "execution_count": 176,
     "metadata": {},
     "output_type": "execute_result"
    }
   ],
   "source": [
    "df1.head()"
   ]
  },
  {
   "cell_type": "code",
   "execution_count": 177,
   "metadata": {},
   "outputs": [
    {
     "data": {
      "text/plain": [
       "Rank                           1.000000\n",
       "Paper Difficulty Physics      -0.540515\n",
       "Total Marks of the Paper      -0.626027\n",
       "Paper Diffficulty Chemistry   -0.651092\n",
       "Paper Difficulty Maths        -0.672363\n",
       "Percentage                    -0.820754\n",
       "Name: Rank, dtype: float64"
      ]
     },
     "execution_count": 177,
     "metadata": {},
     "output_type": "execute_result"
    }
   ],
   "source": [
    "corr_matrix = df1.corr()\n",
    "corr_matrix['Rank'].sort_values(ascending=False)"
   ]
  },
  {
   "cell_type": "code",
   "execution_count": 178,
   "metadata": {},
   "outputs": [
    {
     "data": {
      "text/html": [
       "<div>\n",
       "<style scoped>\n",
       "    .dataframe tbody tr th:only-of-type {\n",
       "        vertical-align: middle;\n",
       "    }\n",
       "\n",
       "    .dataframe tbody tr th {\n",
       "        vertical-align: top;\n",
       "    }\n",
       "\n",
       "    .dataframe thead th {\n",
       "        text-align: right;\n",
       "    }\n",
       "</style>\n",
       "<table border=\"1\" class=\"dataframe\">\n",
       "  <thead>\n",
       "    <tr style=\"text-align: right;\">\n",
       "      <th></th>\n",
       "      <th>Percentage</th>\n",
       "      <th>Total Marks of the Paper</th>\n",
       "      <th>Paper Difficulty Physics</th>\n",
       "      <th>Paper Diffficulty Chemistry</th>\n",
       "      <th>Paper Difficulty Maths</th>\n",
       "      <th>Rank</th>\n",
       "    </tr>\n",
       "  </thead>\n",
       "  <tbody>\n",
       "    <tr>\n",
       "      <th>1</th>\n",
       "      <td>76.11</td>\n",
       "      <td>408</td>\n",
       "      <td>2.725</td>\n",
       "      <td>2.99</td>\n",
       "      <td>3.125</td>\n",
       "      <td>201</td>\n",
       "    </tr>\n",
       "    <tr>\n",
       "      <th>2</th>\n",
       "      <td>75.87</td>\n",
       "      <td>408</td>\n",
       "      <td>2.725</td>\n",
       "      <td>2.99</td>\n",
       "      <td>3.125</td>\n",
       "      <td>202</td>\n",
       "    </tr>\n",
       "    <tr>\n",
       "      <th>3</th>\n",
       "      <td>75.87</td>\n",
       "      <td>408</td>\n",
       "      <td>2.725</td>\n",
       "      <td>2.99</td>\n",
       "      <td>3.125</td>\n",
       "      <td>203</td>\n",
       "    </tr>\n",
       "    <tr>\n",
       "      <th>4</th>\n",
       "      <td>75.87</td>\n",
       "      <td>408</td>\n",
       "      <td>2.725</td>\n",
       "      <td>2.99</td>\n",
       "      <td>3.125</td>\n",
       "      <td>204</td>\n",
       "    </tr>\n",
       "    <tr>\n",
       "      <th>5</th>\n",
       "      <td>75.87</td>\n",
       "      <td>408</td>\n",
       "      <td>2.725</td>\n",
       "      <td>2.99</td>\n",
       "      <td>3.125</td>\n",
       "      <td>205</td>\n",
       "    </tr>\n",
       "  </tbody>\n",
       "</table>\n",
       "</div>"
      ],
      "text/plain": [
       "   Percentage  Total Marks of the Paper  Paper Difficulty Physics  \\\n",
       "1       76.11                       408                     2.725   \n",
       "2       75.87                       408                     2.725   \n",
       "3       75.87                       408                     2.725   \n",
       "4       75.87                       408                     2.725   \n",
       "5       75.87                       408                     2.725   \n",
       "\n",
       "   Paper Diffficulty Chemistry  Paper Difficulty Maths  Rank  \n",
       "1                         2.99                   3.125   201  \n",
       "2                         2.99                   3.125   202  \n",
       "3                         2.99                   3.125   203  \n",
       "4                         2.99                   3.125   204  \n",
       "5                         2.99                   3.125   205  "
      ]
     },
     "execution_count": 178,
     "metadata": {},
     "output_type": "execute_result"
    }
   ],
   "source": [
    "df1.head()"
   ]
  },
  {
   "cell_type": "code",
   "execution_count": 179,
   "metadata": {},
   "outputs": [
    {
     "data": {
      "text/plain": [
       "Rank                           1.000000\n",
       "Paper Difficulty Physics      -0.540515\n",
       "Total Marks of the Paper      -0.626027\n",
       "Paper Diffficulty Chemistry   -0.651092\n",
       "Paper Difficulty Maths        -0.672363\n",
       "Percentage                    -0.820754\n",
       "Name: Rank, dtype: float64"
      ]
     },
     "execution_count": 179,
     "metadata": {},
     "output_type": "execute_result"
    }
   ],
   "source": [
    "corr_matrix = df1.corr()\n",
    "corr_matrix['Rank'].sort_values(ascending=False)"
   ]
  },
  {
   "cell_type": "code",
   "execution_count": 180,
   "metadata": {},
   "outputs": [
    {
     "name": "stdout",
     "output_type": "stream",
     "text": [
      "<class 'pandas.core.frame.DataFrame'>\n",
      "RangeIndex: 8450 entries, 1 to 8450\n",
      "Data columns (total 6 columns):\n",
      "Percentage                     8450 non-null float64\n",
      "Total Marks of the Paper       8450 non-null int64\n",
      "Paper Difficulty Physics       8450 non-null float64\n",
      "Paper Diffficulty Chemistry    8450 non-null float64\n",
      "Paper Difficulty Maths         8450 non-null float64\n",
      "Rank                           8450 non-null int64\n",
      "dtypes: float64(4), int64(2)\n",
      "memory usage: 396.2 KB\n"
     ]
    }
   ],
   "source": [
    "df1.info()"
   ]
  },
  {
   "cell_type": "code",
   "execution_count": 199,
   "metadata": {},
   "outputs": [],
   "source": [
    "#df1x= df1.drop(\"Rank\" , axis = 1)\n",
    "#df1y= df1['Rank']"
   ]
  },
  {
   "cell_type": "code",
   "execution_count": 200,
   "metadata": {},
   "outputs": [],
   "source": [
    "import matplotlib.pyplot as plt \n",
    "import numpy as np \n",
    "from sklearn import datasets, linear_model, metrics \n",
    "\n",
    "\n",
    "# defining feature matrix(X) and response vector(y) \n",
    "X = df1.drop(\"Rank\" , axis = 1)\n",
    "y = df1['Rank']\n",
    "\n",
    "from sklearn.model_selection import train_test_split \n",
    "X_train, X_test, y_train, y_test = train_test_split(X, y, test_size=0.2, random_state=1) \n",
    "\n"
   ]
  },
  {
   "cell_type": "code",
   "execution_count": 201,
   "metadata": {},
   "outputs": [
    {
     "data": {
      "text/plain": [
       "RandomForestRegressor(bootstrap=True, criterion='mse', max_depth=None,\n",
       "                      max_features='auto', max_leaf_nodes=None,\n",
       "                      min_impurity_decrease=0.0, min_impurity_split=None,\n",
       "                      min_samples_leaf=1, min_samples_split=2,\n",
       "                      min_weight_fraction_leaf=0.0, n_estimators=100,\n",
       "                      n_jobs=None, oob_score=False, random_state=0, verbose=0,\n",
       "                      warm_start=False)"
      ]
     },
     "execution_count": 201,
     "metadata": {},
     "output_type": "execute_result"
    }
   ],
   "source": [
    "# Fitting Random Forest Regression to the dataset \n",
    "# import the regressor \n",
    "from sklearn.ensemble import RandomForestRegressor \n",
    "\n",
    "# create regressor object \n",
    "regressor = RandomForestRegressor(n_estimators = 100, random_state = 0) \n",
    "\n",
    "# fit the regressor with x and y data \n",
    "regressor.fit(X_train, y_train) \n"
   ]
  },
  {
   "cell_type": "code",
   "execution_count": 202,
   "metadata": {},
   "outputs": [],
   "source": [
    "y_pred=regressor.predict(X_test)"
   ]
  },
  {
   "cell_type": "code",
   "execution_count": 203,
   "metadata": {},
   "outputs": [],
   "source": [
    "import math\n",
    "import sklearn"
   ]
  },
  {
   "cell_type": "code",
   "execution_count": 204,
   "metadata": {},
   "outputs": [
    {
     "name": "stdout",
     "output_type": "stream",
     "text": [
      "81.94542942228057\n"
     ]
    }
   ],
   "source": [
    "mse = sklearn.metrics.mean_squared_error(y_test, y_pred)\n",
    "\n",
    "rmse = math.sqrt(mse)\n",
    "print(rmse)"
   ]
  },
  {
   "cell_type": "code",
   "execution_count": 205,
   "metadata": {},
   "outputs": [
    {
     "name": "stdout",
     "output_type": "stream",
     "text": [
      "[2069.5215702]\n"
     ]
    }
   ],
   "source": [
    "#2019\n",
    "y_pred = print(regressor.predict([[55.65,372 ,2.31, 1.92, 2.35]]))"
   ]
  },
  {
   "cell_type": "code",
   "execution_count": 206,
   "metadata": {},
   "outputs": [
    {
     "name": "stdout",
     "output_type": "stream",
     "text": [
      "[13.]\n"
     ]
    }
   ],
   "source": [
    "#2018\n",
    "y_pred = print(regressor.predict([[93,360 , 1.92, 2.36, 1.96]]))"
   ]
  },
  {
   "cell_type": "code",
   "execution_count": 207,
   "metadata": {},
   "outputs": [
    {
     "name": "stdout",
     "output_type": "stream",
     "text": [
      "[17024.97142857]\n"
     ]
    }
   ],
   "source": [
    "#2017\n",
    "y_pred = print(regressor.predict([[42.8,372,1.71, 2.25, 1.84]]))"
   ]
  },
  {
   "cell_type": "code",
   "execution_count": 208,
   "metadata": {},
   "outputs": [
    {
     "name": "stdout",
     "output_type": "stream",
     "text": [
      "[8292.11666667]\n"
     ]
    }
   ],
   "source": [
    "#2016\n",
    "y_pred = print(regressor.predict([[31.72,372, 2.21, 2.16, 2.13]]))"
   ]
  },
  {
   "cell_type": "code",
   "execution_count": null,
   "metadata": {},
   "outputs": [],
   "source": []
  },
  {
   "cell_type": "code",
   "execution_count": null,
   "metadata": {},
   "outputs": [],
   "source": [
    "        p     c    m\n",
    "2019:  2.31  1.92,   2.35\n",
    "2018 : 1.92 2.36 ,1.97    \n",
    "2017: 1.71 2.25,1.84\n",
    "2016: 2.21, 2.16 ,2.13    \n",
    "2015 : 2.07 , 2.21 , 2.31\n",
    "2014 : 2.919 , 2.695 , 2.430    \n",
    "2013 : 1.73 , 2.23 ,2.18    \n",
    "    "
   ]
  },
  {
   "cell_type": "code",
   "execution_count": 209,
   "metadata": {},
   "outputs": [
    {
     "name": "stdout",
     "output_type": "stream",
     "text": [
      "[13507.59214929]\n"
     ]
    }
   ],
   "source": [
    "#2014\n",
    "y_pred = print(regressor.predict([[31.72,408 ,2.919, 2.695, 2.430]]))"
   ]
  },
  {
   "cell_type": "code",
   "execution_count": 210,
   "metadata": {},
   "outputs": [
    {
     "name": "stdout",
     "output_type": "stream",
     "text": [
      "[11129.17619048]\n"
     ]
    }
   ],
   "source": [
    "#2013\n",
    "y_pred = print(regressor.predict([[38.88,360, 1.73, 2.23, 2.18]]))"
   ]
  },
  {
   "cell_type": "code",
   "execution_count": null,
   "metadata": {},
   "outputs": [],
   "source": []
  },
  {
   "cell_type": "code",
   "execution_count": null,
   "metadata": {},
   "outputs": [],
   "source": []
  }
 ],
 "metadata": {
  "kernelspec": {
   "display_name": "Python 3",
   "language": "python",
   "name": "python3"
  },
  "language_info": {
   "codemirror_mode": {
    "name": "ipython",
    "version": 3
   },
   "file_extension": ".py",
   "mimetype": "text/x-python",
   "name": "python",
   "nbconvert_exporter": "python",
   "pygments_lexer": "ipython3",
   "version": "3.6.4"
  }
 },
 "nbformat": 4,
 "nbformat_minor": 2
}
